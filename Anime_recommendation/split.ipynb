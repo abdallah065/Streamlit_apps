{
 "cells": [
  {
   "cell_type": "code",
   "execution_count": 1,
   "metadata": {},
   "outputs": [],
   "source": [
    "import pandas as pd"
   ]
  },
  {
   "cell_type": "code",
   "execution_count": 52,
   "metadata": {},
   "outputs": [
    {
     "data": {
      "text/plain": [
       "(2734, 2735)"
      ]
     },
     "execution_count": 52,
     "metadata": {},
     "output_type": "execute_result"
    }
   ],
   "source": [
    "# Read the data\n",
    "df = pd.read_csv('anime_similarity.csv')\n",
    "df.shape"
   ]
  },
  {
   "cell_type": "code",
   "execution_count": 56,
   "metadata": {},
   "outputs": [
    {
     "data": {
      "text/plain": [
       "57.04884338378906"
      ]
     },
     "execution_count": 56,
     "metadata": {},
     "output_type": "execute_result"
    }
   ],
   "source": [
    "#size of the df in memory by magabytes\n",
    "df.memory_usage(index=True).sum() / 1024**2"
   ]
  },
  {
   "cell_type": "code",
   "execution_count": 45,
   "metadata": {},
   "outputs": [],
   "source": [
    "#split the cosin similarity matrix into 5 parts. shape of all is (2734, 2735)\n",
    "df1 = df.iloc[:546, :546]\n",
    "df2 = df.iloc[546:1092, 546:1092]\n",
    "df2.insert(0, 'name', df['name'].iloc[546:1092])\n",
    "df3 = df.iloc[1092:1638, 1092:1638]\n",
    "df3.insert(0, 'name', df['name'].iloc[1092:1638])\n",
    "df4 = df.iloc[1638:2184, 1638:2184]\n",
    "df4.insert(0, 'name', df['name'].iloc[1638:2184])\n",
    "df5 = df.iloc[2184:, 2184:]\n",
    "df5.insert(0, 'name', df['name'].iloc[2184:])\n"
   ]
  },
  {
   "cell_type": "code",
   "execution_count": 57,
   "metadata": {},
   "outputs": [
    {
     "name": "stdout",
     "output_type": "stream",
     "text": [
      "2.274566650390625\n",
      "2.278736114501953\n",
      "2.278736114501953\n",
      "2.278736114501953\n",
      "2.3164100646972656\n"
     ]
    }
   ],
   "source": [
    "#size of every df in memory in magabytes\n",
    "print(df1.memory_usage(index=True).sum() / 1024**2)\n",
    "print(df2.memory_usage(index=True).sum() / 1024**2)\n",
    "print(df3.memory_usage(index=True).sum() / 1024**2)\n",
    "print(df4.memory_usage(index=True).sum() / 1024**2)\n",
    "print(df5.memory_usage(index=True).sum() / 1024**2)"
   ]
  },
  {
   "cell_type": "code",
   "execution_count": 58,
   "metadata": {},
   "outputs": [
    {
     "data": {
      "text/plain": [
       "(546, 546)"
      ]
     },
     "execution_count": 58,
     "metadata": {},
     "output_type": "execute_result"
    }
   ],
   "source": [
    "df1.shape"
   ]
  },
  {
   "cell_type": "code",
   "execution_count": 55,
   "metadata": {},
   "outputs": [
    {
     "data": {
      "text/plain": [
       "57.23404502868652"
      ]
     },
     "execution_count": 55,
     "metadata": {},
     "output_type": "execute_result"
    }
   ],
   "source": [
    "#cobiine all the parts\n",
    "dfc = pd.concat([df1, df2, df3, df4, df5], axis=0)\n",
    "\n",
    "#size of the combined matrix in memory in magabytes\n",
    "dfc.memory_usage(deep=True).sum()/(1024*1024)"
   ]
  },
  {
   "cell_type": "code",
   "execution_count": 51,
   "metadata": {},
   "outputs": [],
   "source": [
    "# Save the data\n",
    "df1.to_csv('anime_similarity1.csv', index=False)\n",
    "df2.to_csv('anime_similarity2.csv', index=False)\n",
    "df3.to_csv('anime_similarity3.csv', index=False)\n",
    "df4.to_csv('anime_similarity4.csv', index=False)\n",
    "df5.to_csv('anime_similarity5.csv', index=False)\n",
    "\n"
   ]
  }
 ],
 "metadata": {
  "kernelspec": {
   "display_name": "Python 3",
   "language": "python",
   "name": "python3"
  },
  "language_info": {
   "codemirror_mode": {
    "name": "ipython",
    "version": 3
   },
   "file_extension": ".py",
   "mimetype": "text/x-python",
   "name": "python",
   "nbconvert_exporter": "python",
   "pygments_lexer": "ipython3",
   "version": "3.9.1"
  },
  "orig_nbformat": 4,
  "vscode": {
   "interpreter": {
    "hash": "8538bd74e6536fb31579f79a7edb81064627eead9bc3e7079839b021b5b49d41"
   }
  }
 },
 "nbformat": 4,
 "nbformat_minor": 2
}
